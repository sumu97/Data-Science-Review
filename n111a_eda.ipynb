{
  "nbformat": 4,
  "nbformat_minor": 0,
  "metadata": {
    "colab": {
      "name": "n111a-eda.ipynb",
      "provenance": []
    },
    "kernelspec": {
      "display_name": "Python 3",
      "language": "python",
      "name": "python3"
    },
    "language_info": {
      "codemirror_mode": {
        "name": "ipython",
        "version": 3
      },
      "file_extension": ".py",
      "mimetype": "text/x-python",
      "name": "python",
      "nbconvert_exporter": "python",
      "pygments_lexer": "ipython3",
      "version": "3.9.4"
    }
  },
  "cells": [
    {
      "cell_type": "markdown",
      "metadata": {
        "id": "MSnsTgZLKO72"
      },
      "source": [
        "<img src='https://i.imgur.com/RDAD11M.png' width = '200' align = 'right'>\n",
        "\n",
        "## *DATA SCIENCE / SECTION 1 / SPRINT 1 / NOTE 1*\n",
        "\n",
        "---\n",
        "\n",
        "# 📝 Assignment\n",
        "\n"
      ]
    },
    {
      "cell_type": "markdown",
      "metadata": {
        "id": "qoR8E-T2TYPd"
      },
      "source": [
        "## 1.데이터셋 불러오기 연습\n",
        "\n",
        "다음 url에서 엑셀 파일을 불러오세요. (pandas excel)\n",
        "\n",
        "<https://ds-lecture-data.s3.ap-northeast-2.amazonaws.com/stocks/Travel.xlsx>\n",
        "\n",
        "  - 데이터셋 변수의 이름은 `df1`, `df2`로 저장하세요.\n",
        "  - row가 아닌 column에 '매출액', '영업이익' 이 가도록 데이터를 transpose 하세요.\n",
        "  - 이후 아래 링크를 참조하여 첫번째 row를 column name으로 설정하세요.\n",
        "\n",
        "<https://stackoverflow.com/questions/31328861/python-pandas-replacing-header-with-top-row>\n",
        "\n",
        "- 파일은 2개의 시트로 구성되어 있으며 각각 이름은 `008770`, `035250` 입니다.\n",
        "\n"
      ]
    },
    {
      "cell_type": "code",
      "metadata": {
        "id": "wMxnu2SmTS8Z"
      },
      "source": [
        "# 1-1 : 데이터 불러오기\n",
        "import pandas as pd\n",
        "excel_url = 'https://ds-lecture-data.s3.ap-northeast-2.amazonaws.com/stocks/Travel.xlsx'\n",
        "df1 = pd.read_excel(io=excel_url, sheet_name = '008770 ')\n",
        "df2 = pd.read_excel(io=excel_url, sheet_name = '035250')\n",
        "\n",
        "# 1-2 : 데이터 transpose\n",
        "df1 = df1.T\n",
        "df2 = df2.T\n",
        "\n",
        "# 1-3 : 첫번째 행을 컬럼명들로 변경\n",
        "df1.columns = df1.iloc[0]\n",
        "df1 = df1.iloc[1:]\n",
        "df2.columns = df2.iloc[0]\n",
        "df2 = df2.iloc[1:]"
      ],
      "execution_count": 1,
      "outputs": []
    },
    {
      "cell_type": "markdown",
      "metadata": {
        "id": "156P6ndeKojO"
      },
      "source": [
        "## 2. 데이터 확인\n",
        "\n",
        "- 데이터의 dimension을 확인하세요.\n",
        "- 데이터의 결측치가 어디에 있는지 확인 후 0으로 대체하세요.\n",
        "- 각 데이터 별로 **FCF**의 값을 barplot으로 시각화하세요.\n",
        "  - 0보다 큰 값인 셀 개수의 총합을 `num1`에, 작은 값인 셀 개수의 총합을 `num2`에 저장하세요\n"
      ]
    },
    {
      "cell_type": "code",
      "metadata": {
        "id": "2eW-Eq3UaMVM"
      },
      "source": [
        "# 2-1 : 데이터의 dimension 확인\n",
        "print(df1.shape)\n",
        "print(df2.shape)\n",
        "# 2-2-1 : 데이터의 결측치 확인\n",
        "df1.isnull().sum()\n",
        "df2.isnull().sum()\n",
        "# 2-2-2 : 데이터의 결측치 0으로 대체\n",
        "df1 = df1.fillna(0)\n",
        "df2 = df2.fillna(0)"
      ],
      "execution_count": 3,
      "outputs": []
    },
    {
      "cell_type": "code",
      "metadata": {
        "id": "zwcaCnpjc6Ye"
      },
      "source": [
        "# 2-3-1 : 한글폰트 오류 해결\n",
        "# 나눔 폰트 설치 : 설치후 런타임 - 런타임 다시시작 (Ctrl + M + .)\n",
        "!sudo apt-get install -y fonts-nanum\n",
        "!sudo fc-cache -fv\n",
        "!rm ~/.cache/matplotlib -rf\n",
        "# 라이브러리\n",
        "import matplotlib as mpl\n",
        "# 폰트 변환\n",
        "mpl.rc(\"font\", family='NanumBarunGothic')\n",
        "# 마이너스 사인 수정\n",
        "mpl.rc('axes', unicode_minus=False)"
      ],
      "execution_count": null,
      "outputs": []
    },
    {
      "cell_type": "code",
      "metadata": {
        "id": "s_ld2YJujRSb",
        "outputId": "b6e559f6-7007-41a9-d5b2-23d3c0ac2387",
        "colab": {
          "base_uri": "https://localhost:8080/",
          "height": 328
        }
      },
      "source": [
        "# 2-3-2 : FCF 값 시각화\n",
        "df1['FCF'].plot.bar()"
      ],
      "execution_count": 14,
      "outputs": [
        {
          "output_type": "execute_result",
          "data": {
            "text/plain": [
              "<matplotlib.axes._subplots.AxesSubplot at 0x7f9e22029d10>"
            ]
          },
          "metadata": {},
          "execution_count": 14
        },
        {
          "output_type": "display_data",
          "data": {
            "image/png": "[encoded data removed]",
            "text/plain": [
              "<Figure size 432x288 with 1 Axes>"
            ]
          },
          "metadata": {
            "needs_background": "light"
          }
        }
      ]
    },
    {
      "cell_type": "code",
      "metadata": {
        "id": "aXxWizc3ep7n",
        "outputId": "ee3e7017-a604-4ebb-b88f-39b237e3d2ab",
        "colab": {
          "base_uri": "https://localhost:8080/",
          "height": 328
        }
      },
      "source": [
        "df2['FCF'].plot.bar()"
      ],
      "execution_count": 15,
      "outputs": [
        {
          "output_type": "execute_result",
          "data": {
            "text/plain": [
              "<matplotlib.axes._subplots.AxesSubplot at 0x7f9e21f9e3d0>"
            ]
          },
          "metadata": {},
          "execution_count": 15
        },
        {
          "output_type": "display_data",
          "data": {
            "image/png": "[encoded data removed]",
            "text/plain": [
              "<Figure size 432x288 with 1 Axes>"
            ]
          },
          "metadata": {
            "needs_background": "light"
          }
        }
      ]
    },
    {
      "cell_type": "code",
      "metadata": {
        "id": "blwl_XsXepwW",
        "outputId": "2d6886e2-fe7c-4c55-e88c-4433dbbe419a",
        "colab": {
          "base_uri": "https://localhost:8080/"
        }
      },
      "source": [
        "# 2-3-3 : Feature FCF 에서, 0보다 큰 셀 개수의 총합을 num1, 작은 값의 총합을 num2에 저장\n",
        "# 데이터 필터링\n",
        "is_bigger_zero = df1['FCF'] > 0\n",
        "bigger_zero = df1[is_bigger_zero]\n",
        "num1 = bigger_zero['FCF'].sum()\n",
        "\n",
        "is_smaller_zero = df1['FCF'] < 0\n",
        "smaller_zero = df1[is_smaller_zero]\n",
        "num2 = smaller_zero['FCF'].sum()\n",
        "\n",
        "is_bigger_zero = df2['FCF'] > 0\n",
        "bigger_zero = df2[is_bigger_zero]\n",
        "num1 = bigger_zero['FCF'].sum() + num1\n",
        "\n",
        "is_smaller_zero = df2['FCF'] < 0\n",
        "smaller_zero = df2[is_smaller_zero]\n",
        "num2 = smaller_zero['FCF'].sum() + num2\n",
        "\n",
        "print(num1, num2)"
      ],
      "execution_count": 26,
      "outputs": [
        {
          "output_type": "stream",
          "name": "stdout",
          "text": [
            "6941.0 -11263.0\n"
          ]
        }
      ]
    },
    {
      "cell_type": "markdown",
      "metadata": {
        "id": "OGMOBwEBTqKS"
      },
      "source": [
        "## 3. File export\n",
        "\n",
        "- 읽었던 엑셀 파일의 내용을 2개의 csv로 각각 출력하세요. (python export csv)\n",
        "\n",
        "  - 이름은 각각 `df1.csv`, `df2.csv` 입니다.\n"
      ]
    },
    {
      "cell_type": "code",
      "metadata": {
        "id": "xe47NX7qk53H"
      },
      "source": [
        "df1.to_csv('df1.csv', header = False, index = False)\n",
        "df2.to_csv('df2.csv', header = False, index = False)"
      ],
      "execution_count": 28,
      "outputs": []
    },
    {
      "cell_type": "markdown",
      "metadata": {
        "id": "DCZ01w4Ps-jO"
      },
      "source": [
        "## 4. Error Handling\n",
        "\n",
        "- 다음의 에러를 고치세요. 결과값은 6912가 나와야합니다.\n"
      ]
    },
    {
      "cell_type": "code",
      "metadata": {
        "colab": {
          "base_uri": "https://localhost:8080/"
        },
        "id": "NJdISe69ZT7E",
        "outputId": "d8d15e20-4dd4-4a93-f32a-8ba633a93850"
      },
      "source": [
        "a = 1234\n",
        "b = 5678\n",
        "\n",
        "a+b"
      ],
      "execution_count": 29,
      "outputs": [
        {
          "output_type": "execute_result",
          "data": {
            "text/plain": [
              "6912"
            ]
          },
          "metadata": {},
          "execution_count": 29
        }
      ]
    },
    {
      "cell_type": "markdown",
      "metadata": {
        "id": "KROePyMWQc08"
      },
      "source": [
        "## 5. EDA\n",
        "\n",
        "아래의 코드는 palmer penguin 데이터를 불러올 수 있는 코드입니다.\n",
        "\n",
        "```python\n",
        "import seaborn as sns\n",
        "\n",
        "pp = sns.load_dataset('penguins')\n",
        "```\n",
        "\n",
        "이를 참조하여, `pp`의 `species`와 `sex`변수에 대해서 cross-tabulation을 시행하고, 6개의 값들 중 가장 큰 값을 `num3`에, 가장 작은 값을 `num4`에 저장하세요."
      ]
    },
    {
      "cell_type": "code",
      "metadata": {
        "id": "HQT8oLpGlYal"
      },
      "source": [
        "import seaborn as sns\n",
        "\n",
        "pp = sns.load_dataset('penguins')"
      ],
      "execution_count": 32,
      "outputs": []
    },
    {
      "cell_type": "code",
      "metadata": {
        "id": "eqfxZbsUldkY"
      },
      "source": [
        "df3 = pd.crosstab(pp.species,pp.sex)\n",
        "num3 = df3.max()\n",
        "num4 = df3.min()"
      ],
      "execution_count": 38,
      "outputs": []
    },
    {
      "cell_type": "markdown",
      "metadata": {
        "id": "axPHh5t5s124"
      },
      "source": [
        "## 🔥 도전과제 "
      ]
    },
    {
      "cell_type": "markdown",
      "metadata": {
        "id": "Obp0rnowSgF8"
      },
      "source": [
        "### penguins 데이터를 계속 사용합니다.\n",
        "\n",
        "이에 대해 아래의 task들을 시행하세요.\n",
        "\n",
        "- 결측치 처리 (제거)\n",
        "\n",
        "- bill_length_mm에 대해서 qqplot 그리기\n",
        "\n",
        "- island에 대해서 다른 4개의 numerical feature 를 boxplot으로 표현하기\n",
        "\n",
        "- 각 numerical feature에 대해서 summary statistics : mean, sd, Quantiles(1Q, 2Q, 3Q, 4Q)를 계산하세요."
      ]
    },
    {
      "cell_type": "code",
      "metadata": {
        "id": "0tVL1EYBTS45"
      },
      "source": [
        "# 이 곳에 답안을 작성하시길 바랍니다"
      ],
      "execution_count": null,
      "outputs": []
    }
  ]
}