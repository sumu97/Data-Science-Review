{
  "nbformat": 4,
  "nbformat_minor": 0,
  "metadata": {
    "colab": {
      "name": "n112a-feature-engineering.ipynb",
      "provenance": [],
      "include_colab_link": true
    },
    "kernelspec": {
      "display_name": "Python 3",
      "language": "python",
      "name": "python3"
    },
    "language_info": {
      "codemirror_mode": {
        "name": "ipython",
        "version": 3
      },
      "file_extension": ".py",
      "mimetype": "text/x-python",
      "name": "python",
      "nbconvert_exporter": "python",
      "pygments_lexer": "ipython3",
      "version": "3.8.2"
    }
  },
  "cells": [
    {
      "cell_type": "markdown",
      "metadata": {
        "id": "view-in-github",
        "colab_type": "text"
      },
      "source": [
        "<a href=\"https://colab.research.google.com/github/sumu97/Data-Science-Review/blob/main/n112-feature-engineering/n112a-feature-engineering.ipynb\" target=\"_parent\"><img src=\"https://colab.research.google.com/assets/colab-badge.svg\" alt=\"Open In Colab\"/></a>"
      ]
    },
    {
      "cell_type": "markdown",
      "metadata": {
        "id": "SnDJqBLi0FYW"
      },
      "source": [
        "<img src='https://user-images.githubusercontent.com/6457691/89746244-a6e2a200-daf3-11ea-9314-7863d544d73c.png' width = '200' align = 'right'>\n",
        "\n",
        "## *DATA SCIENCE / SECTION 1 / SPRINT 1 / NOTE 2*\n",
        "\n",
        "# 📝 Assignment\n"
      ]
    },
    {
      "cell_type": "markdown",
      "metadata": {
        "id": "W5GjI1z5yNG4"
      },
      "source": [
        "## 1. Feature Engineering\n",
        "\n",
        "- `KT&G` 기업 데이터를 계속 사용합니다.\n",
        "  - 변수 이름은 `df`로 저장하세요.\n",
        "\n",
        "- 각 분기별 영업이익률을 직접 계산해보세요. \n",
        "  - Feature 이름은 `영업이익률2` 입니다.\n",
        "\n",
        "- 아래 데이터를 참조하여 18/19년도에 대해서 Price to Dream Ratio (PDR)을 계산하세요.\n",
        "  - 변수 이름은 `df2`, feature 이름은 `PDR`로, `df2['PDR']`을 통해 `~` 값이 확인 되어야합니다. 아래의 전제조건을 활용하세요.\n",
        "  - 점유율 (일반담배 기준) \n",
        "    - 18년 : 62%\n",
        "    - 19년 : 63.5% \n",
        "  - 시장의 규모 \n",
        "     - 18년 : 15조 \n",
        "     - 19년 : 15조\n",
        "\n",
        "||구분|종가|발행주식수|시가총액|시장점유율|PDR|\n",
        "|:-:|:-:|:-:|:-:|:-:|:-:|:-:|\n",
        "|0|18년|101500|137292497|13935188445500|62.0|~|\n",
        "|1|19년|93800|137292497|12878036218600|63.5|~|\n"
      ]
    },
    {
      "cell_type": "code",
      "metadata": {
        "id": "AazB4eFwym2p"
      },
      "source": [
        "# 1-1 : CSV 데이터 불러오기\n",
        "url = 'https://ds-lecture-data.s3.ap-northeast-2.amazonaws.com/kt%26g/kt%26g_0.csv'\n",
        "headers = ['분기', '매출액', '영업이익', '영업이익(발표기준)', '세전계속사업이익',\n",
        "           '당기순이익', '당기순이익(지배)', '당기순이익(비지배)', '자산총계', '부채총계',\n",
        "           '자본총계', '자본총계(지배)', '자본총계(비지배)', '자본금', '영업활동현금흐름',\n",
        "           '투자활동현금흐름', '재무활동현금흐름', '영업이익률', '순이익률', 'ROE(%)',\n",
        "           'ROA(%)', '부채비율', '자본유보율', 'EPS(원)', 'PER(배)']\n",
        "\n",
        "import pandas as pd\n",
        "df = pd.read_csv(url, names = headers)\n",
        "\n",
        "# 1-2 : 분기별 영업이익률 계산\n",
        "def toint(col):\n",
        "  temp_list = []\n",
        "  for i in col:\n",
        "    temp =  int(i.replace(',',''))\n",
        "    temp_list.append(temp)\n",
        "  return temp_list \n",
        "\n",
        "df['영업이익'] = toint(df['영업이익'])\n",
        "df['매출액'] = toint(df['매출액'])\n",
        "df['영업이익률2'] = round(df['영업이익'] / df['매출액'] * 100,2)"
      ],
      "execution_count": 10,
      "outputs": []
    },
    {
      "cell_type": "code",
      "metadata": {
        "id": "llunph6quzvz"
      },
      "source": [
        "# 1-3 : PDR 계산\n",
        "import pandas as pd\n",
        "df2 = pd.DataFrame({'구분':['18년','19년'],\n",
        "                    '종가':[101500, 93800],\n",
        "                    '발행주식수':[137292497,137292497],\n",
        "                    '시가총액':[13935188445500, 12878036218600],\n",
        "                    '시장점유율':[62.0, 63.5]})\n",
        "total_market = 15000000000000\n",
        "df2['PDR'] = df2['시가총액'] / (total_market * (df2['시장점유율'] / 100) )"
      ],
      "execution_count": 9,
      "outputs": []
    },
    {
      "cell_type": "markdown",
      "metadata": {
        "id": "XBtwwrzAnKzk"
      },
      "source": [
        "## 2. String Manipulation\n",
        "\n",
        "- replace가 아닌 다른 방법을 사용하여 19년도 2분기의 매출액 을 integer로 변경하세요. 결과값은 12578이 나와야합니다.\n",
        "  \n"
      ]
    },
    {
      "cell_type": "code",
      "metadata": {
        "id": "9-sR5inqnM0L"
      },
      "source": [
        "# 데이터 다시 불러오기\n",
        "url = 'https://ds-lecture-data.s3.ap-northeast-2.amazonaws.com/kt%26g/kt%26g_0.csv'\n",
        "headers = ['분기', '매출액', '영업이익', '영업이익(발표기준)', '세전계속사업이익',\n",
        "           '당기순이익', '당기순이익(지배)', '당기순이익(비지배)', '자산총계', '부채총계',\n",
        "           '자본총계', '자본총계(지배)', '자본총계(비지배)', '자본금', '영업활동현금흐름',\n",
        "           '투자활동현금흐름', '재무활동현금흐름', '영업이익률', '순이익률', 'ROE(%)',\n",
        "           'ROA(%)', '부채비율', '자본유보율', 'EPS(원)', 'PER(배)']\n",
        "\n",
        "import pandas as pd\n",
        "df = pd.read_csv(url, names = headers)\n",
        "# 실수화\n",
        "def toint(col):\n",
        "  temp_list = []\n",
        "  for i in col:\n",
        "    temp =  int(i[:2] + i[3:])\n",
        "    temp_list.append(temp)\n",
        "  return temp_list \n",
        "\n",
        "df['매출액'] = toint(df['매출액'])"
      ],
      "execution_count": 27,
      "outputs": []
    },
    {
      "cell_type": "markdown",
      "metadata": {
        "id": "357MIyg6nNWj"
      },
      "source": [
        "## 3. Apply\n",
        "- 데이터셋의 분기를 제외한 모든 feature에 대해서 수치형 데이터 (`int`, `float`) 로 수정하고, `describe`를 통해 summary statistics 를 확인하세요.\n",
        "- 단 결측치는 `0`으로 처리합니다."
      ]
    },
    {
      "cell_type": "code",
      "metadata": {
        "id": "Sp93h2pvFs7P"
      },
      "source": [
        "# 데이터 다시 불러오기\n",
        "url = 'https://ds-lecture-data.s3.ap-northeast-2.amazonaws.com/kt%26g/kt%26g_0.csv'\n",
        "headers = ['분기', '매출액', '영업이익', '영업이익(발표기준)', '세전계속사업이익',\n",
        "           '당기순이익', '당기순이익(지배)', '당기순이익(비지배)', '자산총계', '부채총계',\n",
        "           '자본총계', '자본총계(지배)', '자본총계(비지배)', '자본금', '영업활동현금흐름',\n",
        "           '투자활동현금흐름', '재무활동현금흐름', '영업이익률', '순이익률', 'ROE(%)',\n",
        "           'ROA(%)', '부채비율', '자본유보율', 'EPS(원)', 'PER(배)']\n",
        "\n",
        "import pandas as pd\n",
        "df = pd.read_csv(url, names = headers)"
      ],
      "execution_count": 78,
      "outputs": []
    },
    {
      "cell_type": "code",
      "metadata": {
        "id": "xPn-B5Gu1GxY"
      },
      "source": [
        "# 결측치 처리\n",
        "df = df.fillna(0)\n",
        "#df.isnull().sum()\n",
        "#df.dtypes"
      ],
      "execution_count": 80,
      "outputs": []
    },
    {
      "cell_type": "code",
      "metadata": {
        "id": "Qdb79rlpzhsX"
      },
      "source": [
        "# 수치형 데이터로 수정\n",
        "def to_numeric(col):\n",
        "  temp_list = []\n",
        "  for i in col:\n",
        "    #print(i)\n",
        "    try:\n",
        "      if type(i) == float:\n",
        "        temp_list.append(i)\n",
        "        #print(i,'지나갑니다 바로 실수화')\n",
        "        continue\n",
        "      temp = int(i)\n",
        "      temp_list.append(temp)\n",
        "      #print(i,'지나갑니다 바로 정수화')\n",
        "    except:\n",
        "      try:\n",
        "        temp = int(i.replace(',',''))\n",
        "        temp_list.append(temp)\n",
        "        #print(temp,'지나갑니다 수정 정수화')\n",
        "      except:\n",
        "        temp = float(i.replace(',',''))\n",
        "        temp_list.append(temp)\n",
        "        #print(temp,'지나갑니다 수정 실수화')\n",
        "  return temp_list \n",
        "\n",
        "for i in df.columns[1:]:\n",
        "  df[i] = to_numeric(df[i])"
      ],
      "execution_count": 81,
      "outputs": []
    },
    {
      "cell_type": "code",
      "metadata": {
        "id": "3QP5l2tf1Ddz",
        "outputId": "460731cc-25eb-4593-ba6b-0328700f38e9",
        "colab": {
          "base_uri": "https://localhost:8080/",
          "height": 354
        }
      },
      "source": [
        "df.describe()"
      ],
      "execution_count": 82,
      "outputs": [
        {
          "output_type": "execute_result",
          "data": {
            "text/html": [
              "<div>\n",
              "<style scoped>\n",
              "    .dataframe tbody tr th:only-of-type {\n",
              "        vertical-align: middle;\n",
              "    }\n",
              "\n",
              "    .dataframe tbody tr th {\n",
              "        vertical-align: top;\n",
              "    }\n",
              "\n",
              "    .dataframe thead th {\n",
              "        text-align: right;\n",
              "    }\n",
              "</style>\n",
              "<table border=\"1\" class=\"dataframe\">\n",
              "  <thead>\n",
              "    <tr style=\"text-align: right;\">\n",
              "      <th></th>\n",
              "      <th>매출액</th>\n",
              "      <th>영업이익</th>\n",
              "      <th>영업이익(발표기준)</th>\n",
              "      <th>세전계속사업이익</th>\n",
              "      <th>당기순이익</th>\n",
              "      <th>당기순이익(지배)</th>\n",
              "      <th>당기순이익(비지배)</th>\n",
              "      <th>자산총계</th>\n",
              "      <th>부채총계</th>\n",
              "      <th>자본총계</th>\n",
              "      <th>자본총계(지배)</th>\n",
              "      <th>자본총계(비지배)</th>\n",
              "      <th>자본금</th>\n",
              "      <th>영업활동현금흐름</th>\n",
              "      <th>투자활동현금흐름</th>\n",
              "      <th>재무활동현금흐름</th>\n",
              "      <th>영업이익률</th>\n",
              "      <th>순이익률</th>\n",
              "      <th>ROE(%)</th>\n",
              "      <th>ROA(%)</th>\n",
              "      <th>부채비율</th>\n",
              "      <th>자본유보율</th>\n",
              "      <th>EPS(원)</th>\n",
              "      <th>PER(배)</th>\n",
              "    </tr>\n",
              "  </thead>\n",
              "  <tbody>\n",
              "    <tr>\n",
              "      <th>count</th>\n",
              "      <td>5.000000</td>\n",
              "      <td>5.000000</td>\n",
              "      <td>5.000000</td>\n",
              "      <td>5.000000</td>\n",
              "      <td>5.000000</td>\n",
              "      <td>5.000000</td>\n",
              "      <td>5.000000</td>\n",
              "      <td>5.000000</td>\n",
              "      <td>5.00000</td>\n",
              "      <td>5.00000</td>\n",
              "      <td>5.000000</td>\n",
              "      <td>5.00000</td>\n",
              "      <td>5.0</td>\n",
              "      <td>5.000000</td>\n",
              "      <td>5.000000</td>\n",
              "      <td>5.00000</td>\n",
              "      <td>5.000000</td>\n",
              "      <td>5.000000</td>\n",
              "      <td>5.000000</td>\n",
              "      <td>5.000000</td>\n",
              "      <td>5.000000</td>\n",
              "      <td>5.00000</td>\n",
              "      <td>5.000000</td>\n",
              "      <td>5.000000</td>\n",
              "    </tr>\n",
              "    <tr>\n",
              "      <th>mean</th>\n",
              "      <td>12550.800000</td>\n",
              "      <td>3487.200000</td>\n",
              "      <td>3487.200000</td>\n",
              "      <td>3785.000000</td>\n",
              "      <td>2704.600000</td>\n",
              "      <td>2699.000000</td>\n",
              "      <td>5.600000</td>\n",
              "      <td>108155.000000</td>\n",
              "      <td>22988.20000</td>\n",
              "      <td>85166.80000</td>\n",
              "      <td>84604.000000</td>\n",
              "      <td>225.60000</td>\n",
              "      <td>9550.0</td>\n",
              "      <td>2678.200000</td>\n",
              "      <td>-813.600000</td>\n",
              "      <td>-2192.80000</td>\n",
              "      <td>27.676000</td>\n",
              "      <td>21.444000</td>\n",
              "      <td>12.532000</td>\n",
              "      <td>9.694000</td>\n",
              "      <td>27.048000</td>\n",
              "      <td>830.29200</td>\n",
              "      <td>1966.000000</td>\n",
              "      <td>12.046000</td>\n",
              "    </tr>\n",
              "    <tr>\n",
              "      <th>std</th>\n",
              "      <td>664.979097</td>\n",
              "      <td>636.931079</td>\n",
              "      <td>636.931079</td>\n",
              "      <td>1131.079131</td>\n",
              "      <td>863.422724</td>\n",
              "      <td>851.338358</td>\n",
              "      <td>12.481987</td>\n",
              "      <td>1522.396795</td>\n",
              "      <td>2560.38419</td>\n",
              "      <td>1988.82596</td>\n",
              "      <td>1988.427897</td>\n",
              "      <td>308.91876</td>\n",
              "      <td>0.0</td>\n",
              "      <td>3831.542731</td>\n",
              "      <td>783.981696</td>\n",
              "      <td>2763.51139</td>\n",
              "      <td>4.115651</td>\n",
              "      <td>6.601267</td>\n",
              "      <td>0.335738</td>\n",
              "      <td>0.290224</td>\n",
              "      <td>3.554859</td>\n",
              "      <td>18.01957</td>\n",
              "      <td>619.939513</td>\n",
              "      <td>1.898112</td>\n",
              "    </tr>\n",
              "    <tr>\n",
              "      <th>min</th>\n",
              "      <td>11784.000000</td>\n",
              "      <td>2523.000000</td>\n",
              "      <td>2523.000000</td>\n",
              "      <td>1794.000000</td>\n",
              "      <td>1183.000000</td>\n",
              "      <td>1198.000000</td>\n",
              "      <td>-15.000000</td>\n",
              "      <td>106314.000000</td>\n",
              "      <td>20062.00000</td>\n",
              "      <td>82524.00000</td>\n",
              "      <td>81965.000000</td>\n",
              "      <td>0.00000</td>\n",
              "      <td>9550.0</td>\n",
              "      <td>-2278.000000</td>\n",
              "      <td>-1878.000000</td>\n",
              "      <td>-5501.00000</td>\n",
              "      <td>21.060000</td>\n",
              "      <td>9.870000</td>\n",
              "      <td>12.200000</td>\n",
              "      <td>9.370000</td>\n",
              "      <td>23.040000</td>\n",
              "      <td>803.22000</td>\n",
              "      <td>873.000000</td>\n",
              "      <td>9.710000</td>\n",
              "    </tr>\n",
              "    <tr>\n",
              "      <th>25%</th>\n",
              "      <td>11982.000000</td>\n",
              "      <td>3150.000000</td>\n",
              "      <td>3150.000000</td>\n",
              "      <td>4020.000000</td>\n",
              "      <td>2935.000000</td>\n",
              "      <td>2930.000000</td>\n",
              "      <td>4.000000</td>\n",
              "      <td>107121.000000</td>\n",
              "      <td>20691.00000</td>\n",
              "      <td>83732.00000</td>\n",
              "      <td>83170.000000</td>\n",
              "      <td>0.00000</td>\n",
              "      <td>9550.0</td>\n",
              "      <td>837.000000</td>\n",
              "      <td>-1392.000000</td>\n",
              "      <td>-4919.00000</td>\n",
              "      <td>26.730000</td>\n",
              "      <td>22.250000</td>\n",
              "      <td>12.350000</td>\n",
              "      <td>9.400000</td>\n",
              "      <td>24.170000</td>\n",
              "      <td>823.16000</td>\n",
              "      <td>2134.000000</td>\n",
              "      <td>10.460000</td>\n",
              "    </tr>\n",
              "    <tr>\n",
              "      <th>50%</th>\n",
              "      <td>12578.000000</td>\n",
              "      <td>3825.000000</td>\n",
              "      <td>3825.000000</td>\n",
              "      <td>4156.000000</td>\n",
              "      <td>2939.000000</td>\n",
              "      <td>2931.000000</td>\n",
              "      <td>9.000000</td>\n",
              "      <td>108464.000000</td>\n",
              "      <td>23386.00000</td>\n",
              "      <td>85623.00000</td>\n",
              "      <td>85049.000000</td>\n",
              "      <td>0.00000</td>\n",
              "      <td>9550.0</td>\n",
              "      <td>2336.000000</td>\n",
              "      <td>-501.000000</td>\n",
              "      <td>-329.00000</td>\n",
              "      <td>28.930000</td>\n",
              "      <td>24.360000</td>\n",
              "      <td>12.390000</td>\n",
              "      <td>9.790000</td>\n",
              "      <td>26.910000</td>\n",
              "      <td>836.86000</td>\n",
              "      <td>2135.000000</td>\n",
              "      <td>12.420000</td>\n",
              "    </tr>\n",
              "    <tr>\n",
              "      <th>75%</th>\n",
              "      <td>13188.000000</td>\n",
              "      <td>3947.000000</td>\n",
              "      <td>3947.000000</td>\n",
              "      <td>4452.000000</td>\n",
              "      <td>3221.000000</td>\n",
              "      <td>3208.000000</td>\n",
              "      <td>13.000000</td>\n",
              "      <td>108594.000000</td>\n",
              "      <td>24862.00000</td>\n",
              "      <td>86896.00000</td>\n",
              "      <td>86330.000000</td>\n",
              "      <td>562.00000</td>\n",
              "      <td>9550.0</td>\n",
              "      <td>4641.000000</td>\n",
              "      <td>-214.000000</td>\n",
              "      <td>-129.00000</td>\n",
              "      <td>29.930000</td>\n",
              "      <td>24.940000</td>\n",
              "      <td>12.670000</td>\n",
              "      <td>9.950000</td>\n",
              "      <td>29.690000</td>\n",
              "      <td>837.40000</td>\n",
              "      <td>2337.000000</td>\n",
              "      <td>13.770000</td>\n",
              "    </tr>\n",
              "    <tr>\n",
              "      <th>max</th>\n",
              "      <td>13222.000000</td>\n",
              "      <td>3991.000000</td>\n",
              "      <td>3991.000000</td>\n",
              "      <td>4503.000000</td>\n",
              "      <td>3245.000000</td>\n",
              "      <td>3228.000000</td>\n",
              "      <td>17.000000</td>\n",
              "      <td>110282.000000</td>\n",
              "      <td>25940.00000</td>\n",
              "      <td>87059.00000</td>\n",
              "      <td>86506.000000</td>\n",
              "      <td>566.00000</td>\n",
              "      <td>9550.0</td>\n",
              "      <td>7855.000000</td>\n",
              "      <td>-83.000000</td>\n",
              "      <td>-86.00000</td>\n",
              "      <td>31.730000</td>\n",
              "      <td>25.800000</td>\n",
              "      <td>13.050000</td>\n",
              "      <td>9.960000</td>\n",
              "      <td>31.430000</td>\n",
              "      <td>850.82000</td>\n",
              "      <td>2351.000000</td>\n",
              "      <td>13.870000</td>\n",
              "    </tr>\n",
              "  </tbody>\n",
              "</table>\n",
              "</div>"
            ],
            "text/plain": [
              "                매출액         영업이익  ...       EPS(원)     PER(배)\n",
              "count      5.000000     5.000000  ...     5.000000   5.000000\n",
              "mean   12550.800000  3487.200000  ...  1966.000000  12.046000\n",
              "std      664.979097   636.931079  ...   619.939513   1.898112\n",
              "min    11784.000000  2523.000000  ...   873.000000   9.710000\n",
              "25%    11982.000000  3150.000000  ...  2134.000000  10.460000\n",
              "50%    12578.000000  3825.000000  ...  2135.000000  12.420000\n",
              "75%    13188.000000  3947.000000  ...  2337.000000  13.770000\n",
              "max    13222.000000  3991.000000  ...  2351.000000  13.870000\n",
              "\n",
              "[8 rows x 24 columns]"
            ]
          },
          "metadata": {},
          "execution_count": 82
        }
      ]
    },
    {
      "cell_type": "markdown",
      "metadata": {
        "id": "L8k0LiHmo5EU"
      },
      "source": [
        "## 🔥 도전과제\n",
        "\n"
      ]
    },
    {
      "cell_type": "markdown",
      "metadata": {
        "id": "sm0x-1HEoss0"
      },
      "source": [
        "### NA Value Handling\n",
        "\n",
        "- 19년도 4분기의 당기순이익(비지배) 부분을 Na로 대체하세요\n",
        "- 이후 해당 결측치를 mean imputation 방법을 사용하여 처리하세요.\n",
        "\n"
      ]
    },
    {
      "cell_type": "code",
      "metadata": {
        "id": "B2GsUS0HosSD"
      },
      "source": [
        "# 이 곳에 답안을 작성하시길 바랍니다"
      ],
      "execution_count": null,
      "outputs": []
    },
    {
      "cell_type": "markdown",
      "metadata": {
        "id": "x8gq5wkdotTj"
      },
      "source": [
        "### Feature Engineering\n",
        "\n",
        "Relative Perfomance 라는 새로운 feature를 계산하세요.\n",
        "\n",
        "이는 최근 1년치 매출액의 평균값을 기준으로 \n",
        "\n",
        "- 10% 이상 -> `S`\n",
        "- 5% 이상 -> `A`\n",
        "- -5 ~ 5% -> `B`\n",
        "- -5%이하 -> `C`\n",
        "- 10%이하 -> `D`\n",
        "\n",
        "라는 값을 갖는 feature입니다.\n",
        "\n",
        "20년도 2분기에 해당하는 결과값은 `A`가 나와야합니다.\n",
        "\n",
        "각각에 해당하는 등급이 나오기 위해서 필요한 매출액을 추가로 서술하세요."
      ]
    },
    {
      "cell_type": "code",
      "metadata": {
        "id": "JqoaRyQjpaRm"
      },
      "source": [
        "# 이 곳에 답안을 작성하시길 바랍니다"
      ],
      "execution_count": null,
      "outputs": []
    }
  ]
}