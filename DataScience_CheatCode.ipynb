{
  "nbformat": 4,
  "nbformat_minor": 0,
  "metadata": {
    "colab": {
      "name": "DataScience_CheatCode",
      "provenance": [],
      "authorship_tag": "ABX9TyPXC5kv26UeOhW/auYCb2mm",
      "include_colab_link": true
    },
    "kernelspec": {
      "name": "python3",
      "display_name": "Python 3"
    },
    "language_info": {
      "name": "python"
    }
  },
  "cells": [
    {
      "cell_type": "markdown",
      "metadata": {
        "id": "view-in-github",
        "colab_type": "text"
      },
      "source": [
        "<a href=\"https://colab.research.google.com/github/sumu97/Data-Science-Review/blob/main/DataScience_CheatCode.ipynb\" target=\"_parent\"><img src=\"https://colab.research.google.com/assets/colab-badge.svg\" alt=\"Open In Colab\"/></a>"
      ]
    },
    {
      "cell_type": "markdown",
      "metadata": {
        "id": "Sy1eYnpAVzop"
      },
      "source": [
        "# 라이브러리 불러오기"
      ]
    },
    {
      "cell_type": "markdown",
      "metadata": {
        "id": "t_2IfMb2V7ap"
      },
      "source": [
        " - Pandas \\\n",
        "  `import pandas as pd`\n",
        " - Seaborn \\\n",
        "  `import seaborn as sns`"
      ]
    },
    {
      "cell_type": "markdown",
      "metadata": {
        "id": "ZXlPdbhIU6tG"
      },
      "source": [
        "# 데이터 불러오기"
      ]
    },
    {
      "cell_type": "markdown",
      "metadata": {
        "id": "IFTX_jdJVEx1"
      },
      "source": [
        " - Excel 파일\n",
        "```python\n",
        "excel_url = \"엑셀 주소 혹은 파일명\"\n",
        "sheet = \"시트명\"\n",
        "df = pd.read_excel(io=excel_url, sheet_name=sheet)\n",
        "```\n",
        "\n"
      ]
    },
    {
      "cell_type": "markdown",
      "metadata": {
        "id": "UwN9XISGWF0b"
      },
      "source": [
        " - Csv 파일\n",
        "```python\n",
        "csv_url = \"CSV 주소 혹은 파일명\"\n",
        "headers = ['컬럼명 리스트']\n",
        "df = pd.read_csv(csv_url, names = headers)\n",
        "```\n",
        "\n"
      ]
    },
    {
      "cell_type": "markdown",
      "metadata": {
        "id": "WQ0eBxCq7pZo"
      },
      "source": [
        " - 직접 작성\n",
        "```python\n",
        "df = pd.DataFrame({'구분':['18년','19년'],\n",
        "                    '종가':[101500, 93800],\n",
        "                    '시장점유율':[62.0, 63.5]})\n",
        "```\n",
        "\n"
      ]
    },
    {
      "cell_type": "markdown",
      "metadata": {
        "id": "N2jXb0EkXJEY"
      },
      "source": [
        "# 데이터 전처리"
      ]
    },
    {
      "cell_type": "markdown",
      "metadata": {
        "id": "L4ds7OmXXOBR"
      },
      "source": [
        "  - **데이터 타입 확인** \\\n",
        "   `df.dtypes`\n",
        "  - **데이터 행/열 변경**\\\n",
        "   `df.T` `df.transpose()`\n",
        "  - **행 추출**\\\n",
        "   `df.iloc[0]` : 0번째 행 선택 \\\n",
        "  `df.iloc[1:]` : 1번째 행 부터 선택\n",
        "  - **데이터의 dimension 확인** \\\n",
        "  `df.shape`\n",
        "  - **데이터의 결측치 확인** \\\n",
        "  `df.isnull().sum()` : 열 별 결측치 확인\n",
        "  - **데이터의 결측치 대체** \\\n",
        "  `df.fillna(0)` : 결측치 0으로 대체\n",
        "  - **Corss-tabulation (Crosstab)** \\\n",
        "  `pd.crosstab(df['f1'],df['f2'])` \\\n",
        "  df의 Categorical data feature f1과 f2를 수치형으로 묶어줌\n",
        "  - **Describe 함수** \\\n",
        "  `df.describe()` : count, mean, std, min 등 간단하게 확인할 수 있음"
      ]
    },
    {
      "cell_type": "markdown",
      "metadata": {
        "id": "yaNDm6W-iStu"
      },
      "source": [
        " - **데이터 필터링**\n",
        "```python\n",
        "is_bigger_zero = df1['FCF'] > 0 # 변수에 원하는 계산식 지정\n",
        "bigger_zero = df1[is_bigger_zero] # df1의 FCF Feature 값 중 0보다 큰 값을 추출\n",
        "bigger_zero # 데이터프레임으로 추출된 결과값이 나옴\n",
        "```\n",
        "\n"
      ]
    },
    {
      "cell_type": "markdown",
      "metadata": {
        "id": "UU_BPkJluRxW"
      },
      "source": [
        "# 파이썬 연산"
      ]
    },
    {
      "cell_type": "markdown",
      "metadata": {
        "id": "IPOEctfhuXl6"
      },
      "source": [
        " - 소수점 절산 \\\n",
        " `round(num,2)` : 'num' 숫자의 소수점을 '2'자리까지만 출력\n",
        " - 문자열 절산 \\\n",
        " `string[:2]` => `st`"
      ]
    },
    {
      "cell_type": "markdown",
      "metadata": {
        "id": "LVjDYzs3htMr"
      },
      "source": [
        "# 시각화"
      ]
    },
    {
      "cell_type": "markdown",
      "metadata": {
        "id": "2XZ5rtnPhvxt"
      },
      "source": [
        " - 한글폰트 오류 해결\n",
        "```python\n",
        "# 나눔 폰트 설치 : 설치후 런타임 - 런타임 다시시작 (Ctrl + M + .)\n",
        "!sudo apt-get install -y fonts-nanum\n",
        "!sudo fc-cache -fv\n",
        "!rm ~/.cache/matplotlib -rf\n",
        "# 라이브러리\n",
        "import matplotlib as mpl\n",
        "# 폰트 변환\n",
        "mpl.rc(\"font\", family='NanumBarunGothic')\n",
        "# 마이너스 사인 수정\n",
        "mpl.rc('axes', unicode_minus=False)\n",
        "```\n",
        "\n"
      ]
    },
    {
      "cell_type": "markdown",
      "metadata": {
        "id": "TwSwhERsh6uD"
      },
      "source": [
        " - Bar plot 시각화 \\\n",
        " `df['column'].plot.bar()` : DataFrame의 column Feature 시각화"
      ]
    },
    {
      "cell_type": "markdown",
      "metadata": {
        "id": "pOR2sM5pjczm"
      },
      "source": [
        "# 데이터 내보내기"
      ]
    },
    {
      "cell_type": "markdown",
      "metadata": {
        "id": "DcDKn8h_jg3J"
      },
      "source": [
        " - Excel 파일\n",
        "\n",
        " - Csv 파일\\\n",
        "` df.to_csv('파일명.csv' header = False, index = False)`"
      ]
    },
    {
      "cell_type": "markdown",
      "metadata": {
        "id": "w1l9-TZ36hE8"
      },
      "source": [
        "# 자주쓰는 함수"
      ]
    },
    {
      "cell_type": "markdown",
      "metadata": {
        "id": "sbwU6j_h7BKe"
      },
      "source": [
        " - 수치형 데이터로 수정"
      ]
    },
    {
      "cell_type": "code",
      "metadata": {
        "id": "b9fPhFIX6gWH"
      },
      "source": [
        "def to_numeric(col):\n",
        "  temp_list = []\n",
        "  for i in col:\n",
        "    #print(i)\n",
        "    try:\n",
        "      if type(i) == float:\n",
        "        temp_list.append(i)\n",
        "        #print(i,'지나갑니다 바로 실수화')\n",
        "        continue\n",
        "      temp = int(i)\n",
        "      temp_list.append(temp)\n",
        "      #print(i,'지나갑니다 바로 정수화')\n",
        "    except:\n",
        "      try:\n",
        "        temp = int(i.replace(',',''))\n",
        "        temp_list.append(temp)\n",
        "        #print(temp,'지나갑니다 수정 정수화')\n",
        "      except:\n",
        "        temp = float(i.replace(',',''))\n",
        "        temp_list.append(temp)\n",
        "        #print(temp,'지나갑니다 수정 실수화')\n",
        "  return temp_list \n",
        "\n",
        "for i in df.columns[:]:\n",
        "  df[i] = to_numeric(df[i])"
      ],
      "execution_count": null,
      "outputs": []
    }
  ]
}