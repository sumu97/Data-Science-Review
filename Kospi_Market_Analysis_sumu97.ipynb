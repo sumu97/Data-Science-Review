{
  "nbformat": 4,
  "nbformat_minor": 0,
  "metadata": {
    "colab": {
      "name": "Kospi_Market_Analysis_sumu97",
      "provenance": [],
      "mount_file_id": "13Gk4z25xMk5LVan4J3nyoQUyubPBMA_t",
      "authorship_tag": "ABX9TyOatx98Ht2vU+7/yTkfFrps",
      "include_colab_link": true
    },
    "kernelspec": {
      "name": "python3",
      "display_name": "Python 3"
    },
    "language_info": {
      "name": "python"
    }
  },
  "cells": [
    {
      "cell_type": "markdown",
      "metadata": {
        "id": "view-in-github",
        "colab_type": "text"
      },
      "source": [
        "<a href=\"https://colab.research.google.com/github/sumu97/Data-Science-Review/blob/main/Kospi_Market_Analysis_sumu97.ipynb\" target=\"_parent\"><img src=\"https://colab.research.google.com/assets/colab-badge.svg\" alt=\"Open In Colab\"/></a>"
      ]
    },
    {
      "cell_type": "markdown",
      "metadata": {
        "id": "q8BVX5SymtI8"
      },
      "source": [
        "#코스피 동향분석 및 예측 - sumu97"
      ]
    },
    {
      "cell_type": "markdown",
      "metadata": {
        "id": "CbxDSdbrm3rE"
      },
      "source": [
        "###개요\n",
        " - 코스피 지수의 동향을 예측하여, 선물옵션을 통한 단기적 수익실현 및 투자지표로서의 활용이 가능하도록 합니다.\n",
        " - 추후 동일한 모델을 부동산 시장 등에 적용시키기 위해, 데이터에 맞춰 쉽게 변형할 수 있도록 작성합니다.\n",
        " - 두 개 이상의 예측 모델을 활용하여 그 결과를 토대로 서로의 예측을 개선할 수 있게 합니다."
      ]
    },
    {
      "cell_type": "markdown",
      "metadata": {
        "id": "7lTa8HQsmyn3"
      },
      "source": [
        "## 1. 데이터"
      ]
    },
    {
      "cell_type": "markdown",
      "metadata": {
        "id": "-QMKPqBWp-b8"
      },
      "source": [
        ""
      ]
    },
    {
      "cell_type": "code",
      "metadata": {
        "id": "VYbT87eamyWK"
      },
      "source": [
        "import pandas as pd"
      ],
      "execution_count": 2,
      "outputs": []
    },
    {
      "cell_type": "code",
      "metadata": {
        "id": "SedWLpkumZ8E"
      },
      "source": [
        "f_gold = pd.read_csv('GOLD.csv')"
      ],
      "execution_count": 4,
      "outputs": []
    },
    {
      "cell_type": "code",
      "metadata": {
        "id": "jp-LFBuNsYof"
      },
      "source": [
        "def get_data(csv_name, df_name):\n",
        "  df_name = pd.read_csv(csv_name)\n",
        "  columns = [[df_name + '_' + 'date', df_name + '_' + 'end_price', df_name + '_' + 'open_price']]"
      ],
      "execution_count": null,
      "outputs": []
    },
    {
      "cell_type": "code",
      "metadata": {
        "colab": {
          "base_uri": "https://localhost:8080/",
          "height": 419
        },
        "id": "xQiLoDilsDa9",
        "outputId": "238ff91f-fc4c-4e25-ae1e-f3bdfc631252"
      },
      "source": [
        "f_gold"
      ],
      "execution_count": 5,
      "outputs": [
        {
          "output_type": "execute_result",
          "data": {
            "text/html": [
              "<div>\n",
              "<style scoped>\n",
              "    .dataframe tbody tr th:only-of-type {\n",
              "        vertical-align: middle;\n",
              "    }\n",
              "\n",
              "    .dataframe tbody tr th {\n",
              "        vertical-align: top;\n",
              "    }\n",
              "\n",
              "    .dataframe thead th {\n",
              "        text-align: right;\n",
              "    }\n",
              "</style>\n",
              "<table border=\"1\" class=\"dataframe\">\n",
              "  <thead>\n",
              "    <tr style=\"text-align: right;\">\n",
              "      <th></th>\n",
              "      <th>날짜</th>\n",
              "      <th>종가</th>\n",
              "      <th>오픈</th>\n",
              "      <th>고가</th>\n",
              "      <th>저가</th>\n",
              "      <th>거래량</th>\n",
              "      <th>변동 %</th>\n",
              "    </tr>\n",
              "  </thead>\n",
              "  <tbody>\n",
              "    <tr>\n",
              "      <th>0</th>\n",
              "      <td>2021년 11월 01일</td>\n",
              "      <td>1,785.55</td>\n",
              "      <td>1,781.30</td>\n",
              "      <td>1,788.70</td>\n",
              "      <td>1,781.25</td>\n",
              "      <td>-</td>\n",
              "      <td>0.24%</td>\n",
              "    </tr>\n",
              "    <tr>\n",
              "      <th>1</th>\n",
              "      <td>2021년 10월 31일</td>\n",
              "      <td>1,781.25</td>\n",
              "      <td>1,785.05</td>\n",
              "      <td>1,785.30</td>\n",
              "      <td>1,780.45</td>\n",
              "      <td>-</td>\n",
              "      <td>-0.15%</td>\n",
              "    </tr>\n",
              "    <tr>\n",
              "      <th>2</th>\n",
              "      <td>2021년 10월 29일</td>\n",
              "      <td>1,783.90</td>\n",
              "      <td>1,801.50</td>\n",
              "      <td>1,802.90</td>\n",
              "      <td>1,772.40</td>\n",
              "      <td>254.51K</td>\n",
              "      <td>-1.04%</td>\n",
              "    </tr>\n",
              "    <tr>\n",
              "      <th>3</th>\n",
              "      <td>2021년 10월 28일</td>\n",
              "      <td>1,802.60</td>\n",
              "      <td>1,798.70</td>\n",
              "      <td>1,812.70</td>\n",
              "      <td>1,793.10</td>\n",
              "      <td>220.88K</td>\n",
              "      <td>0.21%</td>\n",
              "    </tr>\n",
              "    <tr>\n",
              "      <th>4</th>\n",
              "      <td>2021년 10월 27일</td>\n",
              "      <td>1,798.80</td>\n",
              "      <td>1,795.00</td>\n",
              "      <td>1,801.00</td>\n",
              "      <td>1,784.30</td>\n",
              "      <td>182.80K</td>\n",
              "      <td>0.30%</td>\n",
              "    </tr>\n",
              "    <tr>\n",
              "      <th>...</th>\n",
              "      <td>...</td>\n",
              "      <td>...</td>\n",
              "      <td>...</td>\n",
              "      <td>...</td>\n",
              "      <td>...</td>\n",
              "      <td>...</td>\n",
              "      <td>...</td>\n",
              "    </tr>\n",
              "    <tr>\n",
              "      <th>2637</th>\n",
              "      <td>2011년 10월 07일</td>\n",
              "      <td>1,634.50</td>\n",
              "      <td>1,657.00</td>\n",
              "      <td>1,665.00</td>\n",
              "      <td>1,626.20</td>\n",
              "      <td>0.07K</td>\n",
              "      <td>-1.05%</td>\n",
              "    </tr>\n",
              "    <tr>\n",
              "      <th>2638</th>\n",
              "      <td>2011년 10월 06일</td>\n",
              "      <td>1,651.90</td>\n",
              "      <td>1,642.60</td>\n",
              "      <td>1,654.70</td>\n",
              "      <td>1,637.60</td>\n",
              "      <td>0.04K</td>\n",
              "      <td>0.71%</td>\n",
              "    </tr>\n",
              "    <tr>\n",
              "      <th>2639</th>\n",
              "      <td>2011년 10월 05일</td>\n",
              "      <td>1,640.30</td>\n",
              "      <td>1,629.30</td>\n",
              "      <td>1,644.70</td>\n",
              "      <td>1,599.60</td>\n",
              "      <td>0.11K</td>\n",
              "      <td>1.59%</td>\n",
              "    </tr>\n",
              "    <tr>\n",
              "      <th>2640</th>\n",
              "      <td>2011년 10월 04일</td>\n",
              "      <td>1,614.70</td>\n",
              "      <td>1,661.00</td>\n",
              "      <td>1,678.10</td>\n",
              "      <td>1,596.60</td>\n",
              "      <td>0.16K</td>\n",
              "      <td>-2.49%</td>\n",
              "    </tr>\n",
              "    <tr>\n",
              "      <th>2641</th>\n",
              "      <td>2011년 10월 03일</td>\n",
              "      <td>1,656.00</td>\n",
              "      <td>1,627.80</td>\n",
              "      <td>1,660.80</td>\n",
              "      <td>1,627.60</td>\n",
              "      <td>0.10K</td>\n",
              "      <td>2.20%</td>\n",
              "    </tr>\n",
              "  </tbody>\n",
              "</table>\n",
              "<p>2642 rows × 7 columns</p>\n",
              "</div>"
            ],
            "text/plain": [
              "                 날짜        종가        오픈        고가        저가      거래량    변동 %\n",
              "0     2021년 11월 01일  1,785.55  1,781.30  1,788.70  1,781.25        -   0.24%\n",
              "1     2021년 10월 31일  1,781.25  1,785.05  1,785.30  1,780.45        -  -0.15%\n",
              "2     2021년 10월 29일  1,783.90  1,801.50  1,802.90  1,772.40  254.51K  -1.04%\n",
              "3     2021년 10월 28일  1,802.60  1,798.70  1,812.70  1,793.10  220.88K   0.21%\n",
              "4     2021년 10월 27일  1,798.80  1,795.00  1,801.00  1,784.30  182.80K   0.30%\n",
              "...             ...       ...       ...       ...       ...      ...     ...\n",
              "2637  2011년 10월 07일  1,634.50  1,657.00  1,665.00  1,626.20    0.07K  -1.05%\n",
              "2638  2011년 10월 06일  1,651.90  1,642.60  1,654.70  1,637.60    0.04K   0.71%\n",
              "2639  2011년 10월 05일  1,640.30  1,629.30  1,644.70  1,599.60    0.11K   1.59%\n",
              "2640  2011년 10월 04일  1,614.70  1,661.00  1,678.10  1,596.60    0.16K  -2.49%\n",
              "2641  2011년 10월 03일  1,656.00  1,627.80  1,660.80  1,627.60    0.10K   2.20%\n",
              "\n",
              "[2642 rows x 7 columns]"
            ]
          },
          "metadata": {},
          "execution_count": 5
        }
      ]
    },
    {
      "cell_type": "code",
      "metadata": {
        "id": "2y2quApcuU4X"
      },
      "source": [
        "df_name = 'gold'"
      ],
      "execution_count": 7,
      "outputs": []
    },
    {
      "cell_type": "code",
      "metadata": {
        "id": "eyev4pAKsJcG"
      },
      "source": [
        "  columns = [[df_name + '_' + 'date', df_name + '_' + 'en_price', df_name + '_' + 'op_price', df_name + '_' + 'hi_price',df_name + '_' + 'lo_price',df_name + '_' + 'volume',df_name + '_' + 'change',]]"
      ],
      "execution_count": 8,
      "outputs": []
    },
    {
      "cell_type": "code",
      "metadata": {
        "colab": {
          "base_uri": "https://localhost:8080/"
        },
        "id": "XrgaGwYquZzp",
        "outputId": "91c517bc-4433-4b7d-dc34-664e40adedb7"
      },
      "source": [
        "columns"
      ],
      "execution_count": 9,
      "outputs": [
        {
          "output_type": "execute_result",
          "data": {
            "text/plain": [
              "[['gold_date',\n",
              "  'gold_en_price',\n",
              "  'gold_op_price',\n",
              "  'gold_hi_price',\n",
              "  'gold_lo_price',\n",
              "  'gold_volume',\n",
              "  'gold_change']]"
            ]
          },
          "metadata": {},
          "execution_count": 9
        }
      ]
    }
  ]
}